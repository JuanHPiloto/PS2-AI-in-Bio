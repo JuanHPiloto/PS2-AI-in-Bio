{
 "cells": [
  {
   "cell_type": "code",
   "execution_count": null,
   "metadata": {},
   "outputs": [],
   "source": [
    "import pandas as pd\n",
    "from sklearn.linear_model import LinearRegression\n",
    "\n",
    "df = pd.read_csv('/blue/zoo6927/share/Jupyter_Content/data/auto_mpg.csv')"
   ]
  },
  {
   "cell_type": "code",
   "execution_count": null,
   "metadata": {},
   "outputs": [],
   "source": [
    "#This segregates all of the square values to one line so they can be altered and managed much easier\n",
    "\n",
    "df['weight_sq'] = df.weight**2\n",
    "df['cyl_sq'] = df.cyl**2\n",
    "df['hp_sq'] = df.hp**2\n",
    "df['year_sq'] = df.year**2"
   ]
  },
  {
   "cell_type": "code",
   "execution_count": null,
   "metadata": {},
   "outputs": [],
   "source": [
    "#This sets up our variables the square values increase our fit though some variables only increase it slightly. These are the variables that seem to change the fit by .01. \n",
    "\n",
    "x2c2v2b2 = df[['weight', 'weight_sq', 'cyl', 'cyl_sq', 'hp', 'hp_sq', 'year', 'year_sq']]\n",
    "y = df[['mpg']]"
   ]
  },
  {
   "cell_type": "code",
   "execution_count": null,
   "metadata": {},
   "outputs": [],
   "source": [
    "#This then sets up the linear fit of our model that the score then tries to find the R^2 for.\n",
    "\n",
    "model = LinearRegression().fit(x2c2v2b2, y)\n",
    "print(model.intercept_, model.coef_)"
   ]
  },
  {
   "cell_type": "code",
   "execution_count": null,
   "metadata": {},
   "outputs": [],
   "source": [
    "model.score(x2c2v2b2, y)"
   ]
  }
 ],
 "metadata": {
  "kernelspec": {
   "display_name": "Python 3.8 (full)",
   "language": "python",
   "name": "python3-3.8-ufrc"
  },
  "language_info": {
   "codemirror_mode": {
    "name": "ipython",
    "version": 3
   },
   "file_extension": ".py",
   "mimetype": "text/x-python",
   "name": "python",
   "nbconvert_exporter": "python",
   "pygments_lexer": "ipython3",
   "version": "3.8.5"
  }
 },
 "nbformat": 4,
 "nbformat_minor": 4
}
