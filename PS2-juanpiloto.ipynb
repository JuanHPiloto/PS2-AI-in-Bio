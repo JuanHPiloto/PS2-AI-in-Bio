{
 "cells": [
  {
   "cell_type": "code",
   "execution_count": 1,
   "metadata": {},
   "outputs": [],
   "source": [
    "import pandas as pd\n",
    "from sklearn.linear_model import LinearRegression\n",
    "\n",
    "df = pd.read_csv('/blue/zoo6927/share/Jupyter_Content/data/auto_mpg.csv')"
   ]
  },
  {
   "cell_type": "code",
   "execution_count": 2,
   "metadata": {},
   "outputs": [],
   "source": [
    "#This segregates all of the square values to one line so they can be altered and managed much easier\n",
    "\n",
    "df['weight_sq'] = df.weight**2\n",
    "df['cyl_sq'] = df.cyl**2\n",
    "df['hp_sq'] = df.hp**2\n",
    "df['year_sq'] = df.year**2"
   ]
  },
  {
   "cell_type": "code",
   "execution_count": 3,
   "metadata": {},
   "outputs": [],
   "source": [
    "#This sets up our variables the square values increase our fit though some variables only increase it slightly. These are the variables that seem to change the fit by .01. \n",
    "\n",
    "x2c2v2b2 = df[['weight', 'weight_sq', 'cyl', 'cyl_sq', 'hp', 'hp_sq', 'year', 'year_sq']]\n",
    "y = df[['mpg']]"
   ]
  },
  {
   "cell_type": "code",
   "execution_count": 4,
   "metadata": {},
   "outputs": [
    {
     "name": "stdout",
     "output_type": "stream",
     "text": [
      "[391.50428393] [[-1.59927150e-02  1.73971963e-06 -1.22164952e+00  1.14606632e-01\n",
      "  -1.48907622e-01  4.18585886e-04 -9.31739496e+00  6.63805651e-02]]\n"
     ]
    }
   ],
   "source": [
    "#This then sets up the linear fit of our model that the score then tries to find the R^2 for.\n",
    "\n",
    "model = LinearRegression().fit(x2c2v2b2, y)\n",
    "print(model.intercept_, model.coef_)"
   ]
  },
  {
   "cell_type": "code",
   "execution_count": 6,
   "metadata": {},
   "outputs": [
    {
     "name": "stdout",
     "output_type": "stream",
     "text": [
      "R^2: 0.8703511815802442\n"
     ]
    }
   ],
   "source": [
    "print('R^2:', model.score(x2c2v2b2, y))"
   ]
  }
 ],
 "metadata": {
  "kernelspec": {
   "display_name": "Python 3.8 (full)",
   "language": "python",
   "name": "python3-3.8-ufrc"
  },
  "language_info": {
   "codemirror_mode": {
    "name": "ipython",
    "version": 3
   },
   "file_extension": ".py",
   "mimetype": "text/x-python",
   "name": "python",
   "nbconvert_exporter": "python",
   "pygments_lexer": "ipython3",
   "version": "3.8.5"
  }
 },
 "nbformat": 4,
 "nbformat_minor": 4
}
